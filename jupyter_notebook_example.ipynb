{
 "cells": [
  {
   "cell_type": "markdown",
   "source": [
    "import pandas as pd\n",
    "\n",
    "df = pd.read_csv('https://data.illinois.gov/dataset/820f5916-069f-41e8-afc2-815a26770bea/resource/dfcad952-67cc-4ff3-8be0-0312c25ec8e1/download/chm_jail_data.csv')\n",
    "print(df.head())"
   ],
   "metadata": {
    "collapsed": false
   },
   "id": "446908087793334b"
  },
  {
   "cell_type": "code",
   "execution_count": null,
   "id": "initial_id",
   "metadata": {
    "collapsed": true
   },
   "outputs": [],
   "source": []
  },
  {
   "cell_type": "code",
   "outputs": [
    {
     "name": "stdout",
     "output_type": "stream",
     "text": [
      "   booking_number booking_date booking_time  jacket_number jacket_type  \\\n",
      "0    201200000001     1/1/2012      0:19:14          22914           A   \n",
      "1    201200000001     1/1/2012      0:19:14          22914           A   \n",
      "2    201200000001     1/1/2012      0:19:14          22914           A   \n",
      "3    201200000002     1/1/2012      1:44:45        1024225           A   \n",
      "4    201200000002     1/1/2012      1:44:45        1024225           A   \n",
      "\n",
      "  released_date released_time                arrest_agency  age_at_arrest  \\\n",
      "0      1/1/2012       1:57:29  Champaign Police Department           51.0   \n",
      "1      1/1/2012       1:57:29  Champaign Police Department           51.0   \n",
      "2      1/1/2012       1:57:29  Champaign Police Department           51.0   \n",
      "3      1/2/2012      10:40:39  Champaign Police Department           32.0   \n",
      "4      1/2/2012      10:40:39  Champaign Police Department           32.0   \n",
      "\n",
      "   age_at_release  ...                                            crime  \\\n",
      "0            51.0  ...           DRIVING UNDER THE INFLUENCE OF ALCOHOL   \n",
      "1            51.0  ...                           OTHER TRAFFIC OFFENSES   \n",
      "2            51.0  ...  RESISTING,OBSTRUCTING,OR DISARMING A POLICE OFC   \n",
      "3            32.0  ...                                 DOMESTIC BATTERY   \n",
      "4            32.0  ...                               AGGRAVATED BATTERY   \n",
      "\n",
      "   superhighlevel finalanswercode                finalanswerdesc  \\\n",
      "0             DUI             C69    Driving Under the Influence   \n",
      "1         Traffic             C28               Traffic Offenses   \n",
      "2    Public Order             C31  Interfering w/Public Officers   \n",
      "3         Violent             C05                        Battery   \n",
      "4         Violent             C05                        Battery   \n",
      "\n",
      "  custody_class inmate_status             incarc_reason  \\\n",
      "0           NaN           NaN  Arrest - Without Warrant   \n",
      "1           NaN           NaN  Arrest - Without Warrant   \n",
      "2           NaN           NaN  Arrest - Without Warrant   \n",
      "3           NaN           NaN  Arrest - Without Warrant   \n",
      "4           NaN           NaN  Arrest - Without Warrant   \n",
      "\n",
      "             booking_reason release_reason_description release_reason  \n",
      "0  Arrested Without Warrant    Credit Card Bond Posted    Bond Posted  \n",
      "1  Arrested Without Warrant    Credit Card Bond Posted    Bond Posted  \n",
      "2  Arrested Without Warrant    Credit Card Bond Posted    Bond Posted  \n",
      "3  Arrested Without Warrant    Credit Card Bond Posted    Bond Posted  \n",
      "4  Arrested Without Warrant    Credit Card Bond Posted    Bond Posted  \n",
      "\n",
      "[5 rows x 38 columns]\n"
     ]
    },
    {
     "name": "stderr",
     "output_type": "stream",
     "text": [
      "/var/folders/1_/mvpgsccn1d72q5sqg708xyf80000gn/T/ipykernel_11045/3812899750.py:3: DtypeWarning: Columns (18) have mixed types. Specify dtype option on import or set low_memory=False.\n",
      "  df = pd.read_csv('https://data.illinois.gov/dataset/820f5916-069f-41e8-afc2-815a26770bea/resource/dfcad952-67cc-4ff3-8be0-0312c25ec8e1/download/chm_jail_data.csv')\n"
     ]
    }
   ],
   "source": [
    "import pandas as pd\n",
    "\n",
    "df = pd.read_csv('https://data.illinois.gov/dataset/820f5916-069f-41e8-afc2-815a26770bea/resource/dfcad952-67cc-4ff3-8be0-0312c25ec8e1/download/chm_jail_data.csv')\n",
    "print(df.head())"
   ],
   "metadata": {
    "collapsed": false,
    "ExecuteTime": {
     "end_time": "2024-02-23T20:13:16.082642Z",
     "start_time": "2024-02-23T20:13:07.313906Z"
    }
   },
   "id": "33df7ede3aac49b9",
   "execution_count": 1
  },
  {
   "cell_type": "markdown",
   "source": [],
   "metadata": {
    "collapsed": false
   },
   "id": "2aa14e0fa14237b6"
  }
 ],
 "metadata": {
  "kernelspec": {
   "display_name": "Python 3",
   "language": "python",
   "name": "python3"
  },
  "language_info": {
   "codemirror_mode": {
    "name": "ipython",
    "version": 2
   },
   "file_extension": ".py",
   "mimetype": "text/x-python",
   "name": "python",
   "nbconvert_exporter": "python",
   "pygments_lexer": "ipython2",
   "version": "2.7.6"
  }
 },
 "nbformat": 4,
 "nbformat_minor": 5
}
